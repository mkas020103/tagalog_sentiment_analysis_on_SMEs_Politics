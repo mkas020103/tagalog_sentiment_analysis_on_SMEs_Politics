{
 "cells": [
  {
   "cell_type": "markdown",
   "id": "c66bb0d3",
   "metadata": {},
   "source": [
    "# model inference"
   ]
  },
  {
   "cell_type": "code",
   "execution_count": 19,
   "id": "560f6966",
   "metadata": {},
   "outputs": [
    {
     "name": "stderr",
     "output_type": "stream",
     "text": [
      "c:\\users\\mdfl0\\appdata\\local\\programs\\python\\python39\\lib\\site-packages\\past\\builtins\\misc.py:45: DeprecationWarning: the imp module is deprecated in favour of importlib; see the module's documentation for alternative uses\n",
      "  from imp import reload\n",
      "[nltk_data] Downloading package stopwords to\n",
      "[nltk_data]     C:\\Users\\mdfl0\\AppData\\Roaming\\nltk_data...\n",
      "[nltk_data]   Package stopwords is already up-to-date!\n"
     ]
    }
   ],
   "source": [
    "import joblib\n",
    "from sklearn.preprocessing import LabelEncoder\n",
    "from sklearn.feature_extraction.text import TfidfVectorizer\n",
    "import pandas as pd\n",
    "import numpy as np\n",
    "from classes import preprocess"
   ]
  },
  {
   "cell_type": "code",
   "execution_count": 27,
   "id": "21a1e435",
   "metadata": {},
   "outputs": [],
   "source": [
    "folder_name = 'related text base' # folder name\n",
    "related_or_not = '' #_not\n",
    "text_or_context = 'text' #context or text\n",
    "df_file = 'related_text_base'"
   ]
  },
  {
   "cell_type": "code",
   "execution_count": 29,
   "id": "46b492a9",
   "metadata": {
    "scrolled": true
   },
   "outputs": [
    {
     "name": "stdout",
     "output_type": "stream",
     "text": [
      "Predicted Label: 2.0\n"
     ]
    }
   ],
   "source": [
    "# Preprocess the input text\n",
    "text = \"bbm\"\n",
    "df_test = pd.DataFrame({'text': [text]})\n",
    "\n",
    "# Load the SVM model\n",
    "svm_model = joblib.load('{}/svm_model{}_related_{}_base.pkl'.format(folder_name, related_or_not, text_or_context))\n",
    "\n",
    "# Load the train data and vectorize it\n",
    "train = pd.read_csv('{}/{}.csv'.format(folder_name, df_file))\n",
    "train = train.iloc[:,1]\n",
    "vectorizer = TfidfVectorizer()\n",
    "xtrain_vector = vectorizer.fit_transform(train)\n",
    "\n",
    "# Load the label encoder\n",
    "label_encoder = joblib.load('{}/svm_label_encoder{}_related_{}_base.pkl'.format(folder_name, related_or_not, text_or_context))\n",
    "\n",
    "# Apply the same vectorizer used in training to transform the test data\n",
    "xtest_vectors = vectorizer.transform(df_test['text'])\n",
    "\n",
    "# Make predictions using the SVM model\n",
    "predictions = svm_model.predict(xtest_vectors)\n",
    "\n",
    "# Convert predictions to integer type\n",
    "predictions = predictions.astype(int)\n",
    "\n",
    "# Decode the predicted labels using the label encoder\n",
    "decoded_predictions = label_encoder.inverse_transform(predictions)\n",
    "\n",
    "# Print the predicted label\n",
    "print(\"Predicted Label:\", decoded_predictions[0])"
   ]
  },
  {
   "cell_type": "code",
   "execution_count": null,
   "id": "ed2b9e00",
   "metadata": {},
   "outputs": [],
   "source": []
  }
 ],
 "metadata": {
  "kernelspec": {
   "display_name": "Python 3 (ipykernel)",
   "language": "python",
   "name": "python3"
  },
  "language_info": {
   "codemirror_mode": {
    "name": "ipython",
    "version": 3
   },
   "file_extension": ".py",
   "mimetype": "text/x-python",
   "name": "python",
   "nbconvert_exporter": "python",
   "pygments_lexer": "ipython3",
   "version": "3.9.2"
  }
 },
 "nbformat": 4,
 "nbformat_minor": 5
}
