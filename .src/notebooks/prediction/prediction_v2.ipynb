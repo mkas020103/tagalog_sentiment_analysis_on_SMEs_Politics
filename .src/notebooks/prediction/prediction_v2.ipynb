{
 "cells": [
  {
   "cell_type": "markdown",
   "id": "c66bb0d3",
   "metadata": {},
   "source": [
    "# model inference"
   ]
  },
  {
   "cell_type": "code",
   "execution_count": 5,
   "id": "560f6966",
   "metadata": {},
   "outputs": [],
   "source": [
    "import joblib\n",
    "from sklearn.preprocessing import LabelEncoder\n",
    "from sklearn.feature_extraction.text import TfidfVectorizer\n",
    "import pandas as pd\n",
    "import numpy as np\n",
    "from classes import preprocess"
   ]
  },
  {
   "cell_type": "code",
   "execution_count": 12,
   "id": "21a1e435",
   "metadata": {},
   "outputs": [],
   "source": [
    "folder_name = 'context base model (v1)' # folder name\n",
    "text_or_context = 'context' #context or text\n",
    "df_file = 'context_base'"
   ]
  },
  {
   "cell_type": "code",
   "execution_count": 14,
   "id": "46b492a9",
   "metadata": {
    "scrolled": true
   },
   "outputs": [
    {
     "name": "stdout",
     "output_type": "stream",
     "text": [
      "Predicted Label: 0.0\n"
     ]
    }
   ],
   "source": [
    "# Preprocess the input text\n",
    "text = \"bobo\"\n",
    "df_test = pd.DataFrame({'text': [text]})\n",
    "\n",
    "# Load the SVM model\n",
    "svm_model = joblib.load('{}/svm_model_{}_base.pkl'.format(folder_name, text_or_context))\n",
    "\n",
    "# Load the train data and vectorize it\n",
    "train = pd.read_csv('{}/{}.csv'.format(folder_name, df_file))\n",
    "train = train.iloc[:,1]\n",
    "vectorizer = TfidfVectorizer()\n",
    "xtrain_vector = vectorizer.fit_transform(train)\n",
    "\n",
    "# Load the label encoder\n",
    "label_encoder = joblib.load('{}/svm_label_encoder_{}_base.pkl'.format(folder_name, text_or_context))\n",
    "\n",
    "# Apply the same vectorizer used in training to transform the test data\n",
    "xtest_vectors = vectorizer.transform(df_test['text'])\n",
    "\n",
    "# Make predictions using the SVM model\n",
    "predictions = svm_model.predict(xtest_vectors)\n",
    "\n",
    "# Convert predictions to integer type\n",
    "predictions = predictions.astype(int)\n",
    "\n",
    "# Decode the predicted labels using the label encoder\n",
    "decoded_predictions = label_encoder.inverse_transform(predictions)\n",
    "\n",
    "# Print the predicted label\n",
    "print(\"Predicted Label:\", decoded_predictions[0])"
   ]
  },
  {
   "cell_type": "code",
   "execution_count": null,
   "id": "ed2b9e00",
   "metadata": {},
   "outputs": [],
   "source": [
    "# 2 stands for positive, 1 for neutral, 0 for negative"
   ]
  }
 ],
 "metadata": {
  "kernelspec": {
   "display_name": "Python 3 (ipykernel)",
   "language": "python",
   "name": "python3"
  },
  "language_info": {
   "codemirror_mode": {
    "name": "ipython",
    "version": 3
   },
   "file_extension": ".py",
   "mimetype": "text/x-python",
   "name": "python",
   "nbconvert_exporter": "python",
   "pygments_lexer": "ipython3",
   "version": "3.9.2"
  }
 },
 "nbformat": 4,
 "nbformat_minor": 5
}
